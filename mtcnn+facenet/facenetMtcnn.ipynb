{
 "cells": [
  {
   "cell_type": "code",
   "execution_count": 1,
   "id": "4c5cad8e",
   "metadata": {},
   "outputs": [
    {
     "name": "stderr",
     "output_type": "stream",
     "text": [
      "Using TensorFlow backend.\n"
     ]
    }
   ],
   "source": [
    "import cv2\n",
    "import os\n",
    "import pymysql\n",
    "import numpy as np\n",
    "from skimage import io\n",
    "import mtcnn\n",
    "import utils as utils\n",
    "import InceptionResNetV1"
   ]
  },
  {
   "cell_type": "code",
   "execution_count": 5,
   "id": "4340a823",
   "metadata": {},
   "outputs": [],
   "source": [
    "from pycallgraph import PyCallGraph\n",
    "from pycallgraph.output import GraphvizOutput"
   ]
  },
  {
   "cell_type": "code",
   "execution_count": null,
   "id": "f083ec1b",
   "metadata": {},
   "outputs": [],
   "source": [
    "with PyCallGraph(output=GraphvizOutput()):\n",
    "    mtcnn_model = mtcnn()\n",
    "    # threshold\n",
    "    threshold = [0.5,0.8,0.9]\n",
    "    # load facenet\n",
    "    # detected face transfer to 128-dimensional vector\n",
    "    facenet_model = InceptionResNetV1()\n",
    "    # model.summary()\n",
    "    model_path = './model_data/facenet_keras.h5'\n",
    "    facenet_model.load_weights(model_path)\n",
    "    face_list = os.listdir(\"face_dataset\")\n",
    "    known_face_encodings=[]\n",
    "    known_face_names=[]\n",
    "    nametest=[]\n",
    "    ilist=[]\n",
    "    i=0;\n",
    "    for face in face_list:\n",
    "        name = face.split(\".\")[0]\n",
    "        print(name)\n",
    "        nametest.append(name)\n",
    "        img = cv2.imread(\"./face_dataset/\"+name+\".jpg\")\n",
    "        img = cv2.cvtColor(img,cv2.COLOR_BGR2RGB)\n",
    "        rectangles = mtcnn_model.detectFace(img, threshold)\n",
    "        # convert to rectangle\n",
    "        rectangles = utils.rect2square(np.array(rectangles))\n",
    "        # facenet input a 160*160 picture\n",
    "        rectangle = rectangles[0]\n",
    "        # mark the landmark\n",
    "        landmark = (np.reshape(rectangle[5:15],(5,2)) - np.array([int(rectangle[0]),int(rectangle[1])]))/(rectangle[3]-rectangle[1])*160\n",
    "        crop_img = img[int(rectangle[1]):int(rectangle[3]), int(rectangle[0]):int(rectangle[2])]\n",
    "        crop_img = cv2.resize(crop_img,(160,160))\n",
    "        new_img,_ = utils.Alignment_1(crop_img,landmark)\n",
    "        new_img = np.expand_dims(new_img,0)\n",
    "        # transfer the detected face into facenet, realize the 128-dimensional feature vector extraction\n",
    "        face_encoding = utils.calc_128_vec(facenet_model,new_img)\n",
    "        known_face_encodings.append(face_encoding)\n",
    "        known_face_names.append(name)\n",
    "\n"
   ]
  },
  {
   "cell_type": "code",
   "execution_count": 10,
   "id": "f9d1b083",
   "metadata": {},
   "outputs": [
    {
     "name": "stdout",
     "output_type": "stream",
     "text": [
      "obama\n",
      "xi\n"
     ]
    }
   ],
   "source": [
    "face_list = os.listdir(\"face_dataset\")\n",
    "known_face_encodings=[]\n",
    "known_face_names=[]\n",
    "nametest=[]\n",
    "ilist=[]\n",
    "i=0;\n",
    "for face in face_list:\n",
    "    name = face.split(\".\")[0]\n",
    "    print(name)\n",
    "    nametest.append(name)\n",
    "    img = cv2.imread(\"./face_dataset/\"+name+\".jpg\")\n",
    "    img = cv2.cvtColor(img,cv2.COLOR_BGR2RGB)\n",
    "    rectangles = mtcnn_model.detectFace(img, threshold)\n",
    "    # convert to rectangle\n",
    "    rectangles = utils.rect2square(np.array(rectangles))\n",
    "    # facenet input a 160*160 picture\n",
    "    rectangle = rectangles[0]\n",
    "    # mark the landmark\n",
    "    landmark = (np.reshape(rectangle[5:15],(5,2)) - np.array([int(rectangle[0]),int(rectangle[1])]))/(rectangle[3]-rectangle[1])*160\n",
    "    crop_img = img[int(rectangle[1]):int(rectangle[3]), int(rectangle[0]):int(rectangle[2])]\n",
    "    crop_img = cv2.resize(crop_img,(160,160))\n",
    "    new_img,_ = utils.Alignment_1(crop_img,landmark)\n",
    "    new_img = np.expand_dims(new_img,0)\n",
    "    # transfer the detected face into facenet, realize the 128-dimensional feature vector extraction\n",
    "    face_encoding = utils.calc_128_vec(facenet_model,new_img)\n",
    "    known_face_encodings.append(face_encoding)\n",
    "    known_face_names.append(name)\n",
    "    # the number of the image, used to store the picture\n",
    "    ilist.append(i)\n",
    "    i=i+1\n",
    "    # First convert the data into a string type that can be stored in the database (float32->list->string)\n",
    "    tlist=face_encoding.tolist()  #Convert a 128-dimensional vector into a list\n",
    "    tlist_str=str(tlist)\n",
    "    #update image\n",
    "    db = pymysql.connect(host = 'mydbinstance.ctt6qfpp9mdh.eu-west-3.rds.amazonaws.com',\n",
    "                     port = 3306,\n",
    "                     user = 'husiyu',\n",
    "                     passwd = 'husiyu123',\n",
    "                     database = 'dbname',\n",
    "                     charset = 'utf8')\n",
    "    #获get cursor\n",
    "    cur = db.cursor()\n",
    "    sql = \"Update dbname.images set out1 = '\"+ tlist_str +\"' where id=\"+str(i)+\";\"  # need to transfer it to float32 afterwards\n",
    "    cur.execute(sql)\n",
    "    db.commit()\n",
    "    cur.close()\n",
    "    db.close()"
   ]
  },
  {
   "cell_type": "code",
   "execution_count": 171,
   "id": "02249da6",
   "metadata": {},
   "outputs": [],
   "source": [
    "#This module code is responsible for putting the picture into the database! ! ! ! ! ! ! ! ! !\n",
    "fin = open(\"./face_dataset/xi.jpg\",'rb')   #'Add rb' to read the picture as binary. Only one updated here\n",
    "imgtwo = fin.read()                 #Read binary data into img\n",
    "fin.close()\n",
    "db = pymysql.connect(host = 'mydbinstance.ctt6qfpp9mdh.eu-west-3.rds.amazonaws.com',\n",
    "                     port = 3306,\n",
    "                     user = 'husiyu',\n",
    "                     passwd = 'husiyu123',\n",
    "                     database = 'dbname',\n",
    "                     charset = 'utf8')\n",
    "    #get cursor\n",
    "cur = db.cursor()\n",
    "sql = \"Update dbname.images set data = %s where id=1;\"  # need to transfer it to float32 afterwards\n",
    "args = (imgtwo)                              \n",
    "cur.execute(sql,args)  \n",
    "db.commit()  #update db\n",
    "cur.close()\n",
    "db.close()"
   ]
  },
  {
   "cell_type": "code",
   "execution_count": 173,
   "id": "f422461d",
   "metadata": {},
   "outputs": [],
   "source": [
    "#read image from database\n",
    "db = pymysql.connect(host = 'mydbinstance.ctt6qfpp9mdh.eu-west-3.rds.amazonaws.com',\n",
    "                     port = 3306,\n",
    "                     user = 'husiyu',\n",
    "                     passwd = 'husiyu123',\n",
    "                     database = 'dbname',\n",
    "                     charset = 'utf8')\n",
    "#get cursor\n",
    "cur = db.cursor()\n",
    "sql = \"SELECT data FROM dbname.images where id=1;\"\n",
    "cur.execute(sql)\n",
    "fout = open('image.jpg','wb')\n",
    "fout.write(cur.fetchone()[0])\n",
    "fout.close()\n",
    "db.commit()\n",
    "cur.close()\n",
    "db.close()\n",
    "from PIL import Image\n",
    "im = Image.open('image.jpg')\n"
   ]
  },
  {
   "cell_type": "code",
   "execution_count": 145,
   "id": "d96b007c",
   "metadata": {},
   "outputs": [],
   "source": [
    "#Read the 128-dimensional vector data in the database (the string stored in the database\n",
    "#, so you have to convert the matrix) and convert it to a matrix\n",
    "db = pymysql.connect(host = 'mydbinstance.ctt6qfpp9mdh.eu-west-3.rds.amazonaws.com',\n",
    "                     port = 3306,\n",
    "                     user = 'husiyu',\n",
    "                     passwd = 'husiyu123',\n",
    "                     database = 'dbname',\n",
    "                     charset = 'utf8')\n",
    "#get cursor\n",
    "cur = db.cursor()\n",
    "sql = \"SELECT out1 FROM dbname.images;\"  # need to transfer it to float32 afterwards\n",
    "cur.execute(sql)\n",
    "result=cur.fetchall()\n",
    "db.commit()\n",
    "cur.close()\n",
    "db.close()"
   ]
  }
 ],
 "metadata": {
  "kernelspec": {
   "display_name": "Python 3",
   "language": "python",
   "name": "python3"
  },
  "language_info": {
   "codemirror_mode": {
    "name": "ipython",
    "version": 3
   },
   "file_extension": ".py",
   "mimetype": "text/x-python",
   "name": "python",
   "nbconvert_exporter": "python",
   "pygments_lexer": "ipython3",
   "version": "3.7.9"
  }
 },
 "nbformat": 4,
 "nbformat_minor": 5
}
