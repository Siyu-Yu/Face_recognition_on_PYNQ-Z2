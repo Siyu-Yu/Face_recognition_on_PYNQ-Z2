{
 "cells": [
  {
   "cell_type": "code",
   "execution_count": 18,
   "id": "9e15df4b",
   "metadata": {},
   "outputs": [
    {
     "name": "stdout",
     "output_type": "stream",
     "text": [
      "Delete file with ID : 1psnyUi7D3K4ShSOIbW-pJ-4rZ21Flbgo\n",
      "Uploaded file with ID 1Yrct3uPBwlK7Yx4hT-U7Kl8bWLf4Pkq0\n"
     ]
    }
   ],
   "source": [
    "import pymysql\n",
    "import cv2\n",
    "import numpy as np\n",
    "from pydrive.auth import GoogleAuth\n",
    "from pydrive.drive import GoogleDrive\n",
    "image=[]\n",
    "label=[]\n",
    "counter=0\n",
    "gauth = GoogleAuth()\n",
    "drive = GoogleDrive(gauth)\n",
    "fileList = drive.ListFile({'q': \"'root' in parents and trashed=false\"}).GetList()\n",
    "db = pymysql.connect(host = 'mydbinstance.ctt6qfpp9mdh.eu-west-3.rds.amazonaws.com',\n",
    "                     port = 3306,\n",
    "                     user = 'husiyu',\n",
    "                     passwd = 'husiyu123',\n",
    "                     database = 'dbname',\n",
    "                     charset = 'utf8')\n",
    "#get cursor\n",
    "cur = db.cursor()\n",
    "#read old training file from cloud\n",
    "sql = \"SELECT key_file FROM dbname.keyf where nur=1;\"\n",
    "cur.execute(sql)\n",
    "id_trainer = cur.fetchone()[0]\n",
    "db.commit()\n",
    "file_delete = drive.CreateFile({'id':id_trainer})\n",
    "file_delete.Delete()\n",
    "print('Delete file with ID : '+id_trainer)\n",
    "#read image from database, train yml file and store it on the cloud，store id file to the cloud\n",
    "sql = \"SELECT count(id) FROM dbname.images;\"\n",
    "cur.execute(sql)\n",
    "counter = cur.fetchone()\n",
    "for i in range(1,counter[0]+1):\n",
    "    sql1 = \"SELECT data,person FROM dbname.images where id=\"+str(i)+\";\"\n",
    "    cur.execute(sql1)\n",
    "    result=cur.fetchone()\n",
    "    fout = open('image.jpg','wb')\n",
    "    fout.write(result[0])\n",
    "    fout.close()\n",
    "    image.append(cv2.imread(\"image.jpg\",cv2.IMREAD_GRAYSCALE))\n",
    "    label.append(result[1])\n",
    "db.commit()\n",
    "recognizer = cv2.face.FisherFaceRecognizer_create()\n",
    "recognizer.train(image, np.array(label))  \n",
    "recognizer.write(r'trainer.yml')\n",
    "# upload trainer.yml file into google cloud\n",
    "upload_file = 'trainer.yml'\n",
    "gfile = drive.CreateFile({'title': 'trainer.yml'})\n",
    "gfile.SetContentFile(upload_file)\n",
    "gfile.Upload() # Upload the file.\n",
    "print('Uploaded file with ID {}'.format(gfile.get('id')))\n",
    "sql = \"Update dbname.keyf set nur= %s, key_file= %s;\"\n",
    "args = (str(1),gfile.get('id'))\n",
    "cur.execute(sql, args)\n",
    "db.commit()   #update database\n",
    "#close cursor and database\n",
    "cur.close()\n",
    "db.close()"
   ]
  },
  {
   "cell_type": "code",
   "execution_count": 11,
   "id": "75236c0c",
   "metadata": {},
   "outputs": [],
   "source": [
    "# 插入Facedata1里的图片进入数据库/更新图片\n",
    "import pymysql\n",
    "counter=0\n",
    "db = pymysql.connect(host = 'mydbinstance.ctt6qfpp9mdh.eu-west-3.rds.amazonaws.com',\n",
    "                     port = 3306,\n",
    "                     user = 'husiyu',\n",
    "                     passwd = 'husiyu123',\n",
    "                     database = 'dbname',\n",
    "                     charset = 'utf8')\n",
    "#获取游标对象\n",
    "cur = db.cursor()\n",
    "for i in range (0,1):\n",
    "    for j in range (1,11):\n",
    "        counter=counter+1\n",
    "        fp = open(\"Facedata1/User.\"+str(i)+\".\"+str(j)+\".png\", 'rb')\n",
    "        img = fp.read()\n",
    "        fp.close()\n",
    "        #sql = \"INSERT INTO dbname.images (id,data,person,nr) VALUES(%s,%s,%s,%s);\"\n",
    "        sql = \"Update dbname.images set data=%s where id=%s ;\"\n",
    "        args = (img, counter)\n",
    "        cur.execute(sql, args)\n",
    "db.commit()\n",
    "cur.close()\n",
    "db.close()"
   ]
  },
  {
   "cell_type": "code",
   "execution_count": 12,
   "id": "5b2bd7e9",
   "metadata": {},
   "outputs": [],
   "source": [
    "#插入Facedata里的数据进入数据库/更新图片\n",
    "import pymysql\n",
    "counter=10\n",
    "db = pymysql.connect(host = 'mydbinstance.ctt6qfpp9mdh.eu-west-3.rds.amazonaws.com',\n",
    "                     port = 3306,\n",
    "                     user = 'husiyu',\n",
    "                     passwd = 'husiyu123',\n",
    "                     database = 'dbname',\n",
    "                     charset = 'utf8')\n",
    "#获取游标对象\n",
    "cur = db.cursor()\n",
    "for i in range (1,7):\n",
    "    for j in range (1,11):\n",
    "        counter=counter+1\n",
    "        fp = open(\"Facedata/User.\"+str(i)+\".\"+str(j)+\".png\", 'rb')\n",
    "        img = fp.read()\n",
    "        fp.close()\n",
    "        #sql = \"INSERT INTO dbname.images (id,data,person,nr) VALUES(%s,%s,%s,%s);\"\n",
    "        sql = \"Update dbname.images set data=%s where id=%s ;\"\n",
    "        args = (img, counter)\n",
    "        cur.execute(sql, args)\n",
    "db.commit()\n",
    "cur.close()\n",
    "db.close()"
   ]
  },
  {
   "cell_type": "code",
   "execution_count": 16,
   "id": "192f5a91",
   "metadata": {},
   "outputs": [],
   "source": [
    "#查看数据库里的图片\n",
    "import pymysql\n",
    "import cv2\n",
    "db = pymysql.connect(host = 'mydbinstance.ctt6qfpp9mdh.eu-west-3.rds.amazonaws.com',\n",
    "                     port = 3306,\n",
    "                     user = 'husiyu',\n",
    "                     passwd = 'husiyu123',\n",
    "                     database = 'dbname',\n",
    "                     charset = 'utf8')\n",
    "#获取游标对象\n",
    "cur = db.cursor()\n",
    "sql = \"SELECT data FROM dbname.images where id=10;\"\n",
    "cur.execute(sql)\n",
    "fout = open('image.jpg','wb')\n",
    "fout.write(cur.fetchone()[0])\n",
    "fout.close()\n",
    "db.commit()\n",
    "cur.close()\n",
    "db.close()\n",
    "from PIL import Image\n",
    "im = Image.open('image.jpg')\n",
    "im.show()"
   ]
  },
  {
   "cell_type": "code",
   "execution_count": 15,
   "id": "9c4f5b70",
   "metadata": {},
   "outputs": [
    {
     "name": "stdout",
     "output_type": "stream",
     "text": [
      "Uploaded file with ID 1psnyUi7D3K4ShSOIbW-pJ-4rZ21Flbgo\n"
     ]
    }
   ],
   "source": [
    "#from pydrive.auth import GoogleAuth\n",
    "#from pydrive.drive import GoogleDrive\n",
    "#gauth = GoogleAuth()\n",
    "#drive = GoogleDrive(gauth)\n",
    "fileList = drive.ListFile({'q': \"'root' in parents and trashed=false\"}).GetList()\n",
    "upload_file = 'trainer.yml'\n",
    "gfile = drive.CreateFile({'title': 'trainer.yml'})\n",
    "# Read file and set it as a content of this instance.\n",
    "gfile.SetContentFile(upload_file)\n",
    "gfile.Upload() # Upload the file.\n",
    "print('Uploaded file with ID {}'.format(gfile.get('id')))\n",
    "db = pymysql.connect(host = 'mydbinstance.ctt6qfpp9mdh.eu-west-3.rds.amazonaws.com',\n",
    "                     port = 3306,\n",
    "                     user = 'husiyu',\n",
    "                     passwd = 'husiyu123',\n",
    "                     database = 'dbname',\n",
    "                     charset = 'utf8')\n",
    "#获取游标对象\n",
    "cur = db.cursor()\n",
    "sql = \"Update dbname.keyf set nur= %s, key_file= %s;\"\n",
    "args = (str(1),gfile.get('id'))\n",
    "cur.execute(sql, args)\n",
    "db.commit()\n",
    "cur.close()\n",
    "db.close()"
   ]
  },
  {
   "cell_type": "code",
   "execution_count": 1,
   "id": "ca3eb724",
   "metadata": {},
   "outputs": [],
   "source": [
    "import pymysql\n",
    "db = pymysql.connect(host = 'mydbinstance.ctt6qfpp9mdh.eu-west-3.rds.amazonaws.com',\n",
    "                     port = 3306,\n",
    "                     user = 'husiyu',\n",
    "                     passwd = 'husiyu123',\n",
    "                     database = 'dbname',\n",
    "                     charset = 'utf8')\n",
    "#获取游标对象\n",
    "cur = db.cursor()\n",
    "sql = \"SELECT key_file FROM dbname.keyf where nur=1;\"\n",
    "cur.execute(sql)\n",
    "id_trainer = cur.fetchone()[0]\n",
    "cur.execute(sql)\n",
    "db.commit()\n",
    "cur.close()\n",
    "db.close()"
   ]
  },
  {
   "cell_type": "code",
   "execution_count": 2,
   "id": "80e34c47",
   "metadata": {},
   "outputs": [
    {
     "data": {
      "text/plain": [
       "'1l9xhDNT9nsHejgikASdPzWOmH415Y6sk'"
      ]
     },
     "execution_count": 2,
     "metadata": {},
     "output_type": "execute_result"
    }
   ],
   "source": []
  },
  {
   "cell_type": "code",
   "execution_count": null,
   "id": "969e723e",
   "metadata": {},
   "outputs": [],
   "source": [
    "for i in range(1,counter+1):\n",
    "    cur1 = db.cursor()\n",
    "    sql1 = \"SELECT data FROM dbname.images where id=\"+str(i)+\";\"\n",
    "    cur1.execute(sql1)\n",
    "    image1=cur1.fetchone()\n",
    "    image"
   ]
  },
  {
   "cell_type": "code",
   "execution_count": null,
   "id": "ffc0a2f8",
   "metadata": {},
   "outputs": [],
   "source": [
    "for i in range (0,1):\n",
    "    for j in range (1,11):\n",
    "        images.append(cv2.imread(\"Facedata1/User.\"+str(i)+\".\"+str(j)+\".png\",cv2.IMREAD_GRAYSCALE))\n",
    "        labels.append(1)"
   ]
  },
  {
   "cell_type": "code",
   "execution_count": 9,
   "id": "cba56bc6",
   "metadata": {},
   "outputs": [
    {
     "name": "stdin",
     "output_type": "stream",
     "text": [
      "\n",
      " enter user id: 1\n"
     ]
    },
    {
     "name": "stdout",
     "output_type": "stream",
     "text": [
      "\n",
      " Initializing face capture. Look at the camera and wait ...\n"
     ]
    }
   ],
   "source": [
    "#0308\n",
    "import cv2\n",
    "import sys\n",
    "# 调用笔记本内置摄像头，所以参数为0，如果有其他的摄像头可以调整参数为1，2\n",
    "\n",
    "cap = cv2.VideoCapture(0)\n",
    "\n",
    "face_detector = cv2.CascadeClassifier('haarcascade_frontalface_default.xml')\n",
    "\n",
    "face_id = input('\\n enter user id:')\n",
    "\n",
    "print('\\n Initializing face capture. Look at the camera and wait ...')\n",
    "\n",
    "count = 0\n",
    "\n",
    "while True:\n",
    "\n",
    "    # 从摄像头读取图片\n",
    "\n",
    "    sucess, img = cap.read()\n",
    "\n",
    "    # 转为灰度图片\n",
    "\n",
    "    gray = cv2.cvtColor(img, cv2.COLOR_BGR2GRAY)\n",
    "\n",
    "    # 检测人脸\n",
    "\n",
    "    faces = face_detector.detectMultiScale(gray, 1.3, 5)\n",
    "\n",
    "    for (x, y, w, h) in faces:\n",
    "        cv2.rectangle(img, (x, y), (x+w, y+w), (255, 0, 0))\n",
    "        count += 1\n",
    "\n",
    "        # 保存图像\n",
    "        cv2.imwrite(\"Facedata1/User.\" + str(face_id) + '.' + str(count) + '.png', gray[y-30: y +30 +h, x-30: x +30+ w])\n",
    "\n",
    "        cv2.imshow('image', img)\n",
    "\n",
    "    # 保持画面的持续。\n",
    "\n",
    "    k = cv2.waitKey(1)\n",
    "\n",
    "    if k == 27:   # 通过esc键退出摄像\n",
    "        break\n",
    "\n",
    "    elif count >= 10:  # 得到1000个样本后退出摄像\n",
    "        break\n",
    "\n",
    "# 关闭摄像头\n",
    "cap.release()\n",
    "cv2.destroyAllWindows()"
   ]
  },
  {
   "cell_type": "code",
   "execution_count": 11,
   "id": "5eae6be9",
   "metadata": {},
   "outputs": [
    {
     "name": "stdout",
     "output_type": "stream",
     "text": [
      "Training faces. It will take a few seconds. Wait ...\n"
     ]
    },
    {
     "data": {
      "text/plain": [
       "<face_LBPHFaceRecognizer 000002611DD97530>"
      ]
     },
     "execution_count": 11,
     "metadata": {},
     "output_type": "execute_result"
    }
   ],
   "source": [
    "import numpy as np\n",
    "from PIL import Image\n",
    "import os\n",
    "import cv2\n",
    "# 人脸数据路径\n",
    "path = 'Facedata'\n",
    "\n",
    "recognizer = cv2.face.LBPHFaceRecognizer_create()\n",
    "detector = cv2.CascadeClassifier(\"haarcascade_frontalface_default.xml\")\n",
    "\n",
    "def getImagesAndLabels(path):\n",
    "    imagePaths = [os.path.join(path, f) for f in os.listdir(path)]  # join函数的作用？\n",
    "    faceSamples = []\n",
    "    ids = []\n",
    "    for imagePath in imagePaths:\n",
    "        PIL_img = Image.open(imagePath).convert('L')   # convert it to grayscale\n",
    "        img_numpy = np.array(PIL_img, 'uint8')\n",
    "        id = int(os.path.split(imagePath)[-1].split(\".\")[1])\n",
    "        faces = detector.detectMultiScale(img_numpy)\n",
    "        for (x, y, w, h) in faces:\n",
    "            faceSamples.append(img_numpy[y:y + h, x: x + w])\n",
    "            ids.append(id)\n",
    "    return faceSamples, ids\n",
    "\n",
    "\n",
    "print('Training faces. It will take a few seconds. Wait ...')\n",
    "faces, ids = getImagesAndLabels(path)\n",
    "recognizer.train(faces, np.array(ids))\n",
    "recognizer\n"
   ]
  },
  {
   "cell_type": "code",
   "execution_count": null,
   "id": "23e45d2e",
   "metadata": {},
   "outputs": [],
   "source": []
  },
  {
   "cell_type": "code",
   "execution_count": 12,
   "id": "5bf9c943",
   "metadata": {},
   "outputs": [
    {
     "name": "stdout",
     "output_type": "stream",
     "text": [
      "1 faces trained. Exiting Program\n"
     ]
    }
   ],
   "source": [
    "recognizer.write('trainer.yml')\n",
    "print(\"{0} faces trained. Exiting Program\".format(len(np.unique(ids))))"
   ]
  },
  {
   "cell_type": "code",
   "execution_count": null,
   "id": "849cb598",
   "metadata": {},
   "outputs": [],
   "source": []
  }
 ],
 "metadata": {
  "kernelspec": {
   "display_name": "Python 3",
   "language": "python",
   "name": "python3"
  },
  "language_info": {
   "codemirror_mode": {
    "name": "ipython",
    "version": 3
   },
   "file_extension": ".py",
   "mimetype": "text/x-python",
   "name": "python",
   "nbconvert_exporter": "python",
   "pygments_lexer": "ipython3",
   "version": "3.7.9"
  }
 },
 "nbformat": 4,
 "nbformat_minor": 5
}
