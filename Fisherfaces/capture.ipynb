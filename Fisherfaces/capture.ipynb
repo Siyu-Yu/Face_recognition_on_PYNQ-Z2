{
 "cells": [
  {
   "cell_type": "code",
   "execution_count": null,
   "id": "26ad69cd",
   "metadata": {},
   "outputs": [],
   "source": [
    "import cv2\n",
    " \n",
    "cap = cv2.VideoCapture(0) \n",
    "width = 640\n",
    "ret = cap.set(3, width)\n",
    "height = 480\n",
    "ret = cap.set(4, height)\n",
    "sucess, img = cap.read()\n",
    "sucess,img"
   ]
  },
  {
   "cell_type": "code",
   "execution_count": null,
   "id": "02ee1366",
   "metadata": {},
   "outputs": [],
   "source": [
    "import cv2\n",
    "import sys\n",
    "# Call the notebook built-in camera, so the parameter is 0, \n",
    "# if there are other cameras, you can adjust the parameters to 1, 2\n",
    "\n",
    "cap = cv2.VideoCapture(0)\n",
    "face_detector = cv2.CascadeClassifier('haarcascade_frontalface_default.xml')\n",
    "face_id = input('\\n enter user id:')\n",
    "print('\\n Initializing face capture. Look at the camera and wait ...')\n",
    "count = 0\n",
    "while True:\n",
    "    # capture faces from webcam\n",
    "    sucess, img = cap.read()\n",
    "    # transfer it to grayscale\n",
    "    gray = cv2.cvtColor(img, cv2.COLOR_BGR2GRAY)\n",
    "    # detect faces\n",
    "    faces = face_detector.detectMultiScale(gray, 1.3, 5)\n",
    "    for (x, y, w, h) in faces:\n",
    "        cv2.rectangle(img, (x, y), (x+w, y+w), (255, 0, 0))\n",
    "        count += 1\n",
    "        # store image\n",
    "        cv2.imwrite(\"Facedata/User.\" + str(face_id) + '.' + str(count) + '.jpg', gray[y: y + h, x: x + w])\n",
    "        cv2.imshow('image', img)\n",
    "    # keep continous\n",
    "    k = cv2.waitKey(1)\n",
    "    if k == 27:   # shut down the process through esc\n",
    "        break\n",
    "    elif count >= 100:  # get 100 samples\n",
    "        break\n",
    "# shut down the webcam\n",
    "cap.release()\n",
    "cv2.destroyAllWindows()"
   ]
  },
  {
   "cell_type": "code",
   "execution_count": null,
   "id": "b0eb7e54",
   "metadata": {},
   "outputs": [],
   "source": []
  },
  {
   "cell_type": "code",
   "execution_count": null,
   "id": "4a6fe79e",
   "metadata": {},
   "outputs": [],
   "source": []
  },
  {
   "cell_type": "code",
   "execution_count": null,
   "id": "6be33421",
   "metadata": {},
   "outputs": [],
   "source": []
  },
  {
   "cell_type": "code",
   "execution_count": null,
   "id": "4303e597",
   "metadata": {},
   "outputs": [],
   "source": []
  }
 ],
 "metadata": {
  "kernelspec": {
   "display_name": "Python 3",
   "language": "python",
   "name": "python3"
  },
  "language_info": {
   "codemirror_mode": {
    "name": "ipython",
    "version": 3
   },
   "file_extension": ".py",
   "mimetype": "text/x-python",
   "name": "python",
   "nbconvert_exporter": "python",
   "pygments_lexer": "ipython3",
   "version": "3.7.9"
  }
 },
 "nbformat": 4,
 "nbformat_minor": 5
}
